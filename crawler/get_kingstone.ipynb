{
 "cells": [
  {
   "cell_type": "code",
   "execution_count": 2,
   "metadata": {},
   "outputs": [],
   "source": [
    "url = \"https://www.kingstone.com.tw/search/search?q={keyword}&sort=score&dis=&page={page}\""
   ]
  },
  {
   "cell_type": "code",
   "execution_count": 4,
   "metadata": {},
   "outputs": [],
   "source": [
    "# 讀取資料\n",
    "with open('kingstone.txt', 'r',encoding='utf-8') as fp:\n",
    "    data2 = eval(fp.read())"
   ]
  },
  {
   "cell_type": "code",
   "execution_count": 11,
   "metadata": {},
   "outputs": [],
   "source": [
    "# 儲存資料\n",
    "with open('kingstone2.txt', 'w',encoding='utf-8') as fp:\n",
    "    fp.write(str(data))"
   ]
  },
  {
   "cell_type": "code",
   "execution_count": 5,
   "metadata": {},
   "outputs": [],
   "source": [
    "history = []"
   ]
  },
  {
   "cell_type": "code",
   "execution_count": 11,
   "metadata": {},
   "outputs": [],
   "source": [
    "keyword = [f\"%E5%B0%8F%E8%AA%AA\", f\"%E9%A7%AD%E5%AE%A2\",f\"%E7%96%AB%E6%83%85\",f\"%E6%BC%AB%E7%95%AB\",]\n",
    "# 小說, 駭客, 疫情, 漫畫"
   ]
  },
  {
   "cell_type": "code",
   "execution_count": 12,
   "metadata": {},
   "outputs": [
    {
     "data": {
      "text/plain": [
       "['%E5%B0%8F%E8%AA%AA',\n",
       " '%E9%A7%AD%E5%AE%A2',\n",
       " '%E7%96%AB%E6%83%85',\n",
       " '%E6%BC%AB%E7%95%AB']"
      ]
     },
     "execution_count": 12,
     "metadata": {},
     "output_type": "execute_result"
    }
   ],
   "source": [
    "keyword"
   ]
  },
  {
   "cell_type": "code",
   "execution_count": 14,
   "metadata": {},
   "outputs": [
    {
     "data": {
      "text/plain": [
       "['%E5%81%A5%E5%BA%B7',\n",
       " '%E5%B0%8F%E8%AA%AA',\n",
       " '%E9%A7%AD%E5%AE%A2',\n",
       " '%E7%96%AB%E6%83%85',\n",
       " '%E6%BC%AB%E7%95%AB']"
      ]
     },
     "execution_count": 14,
     "metadata": {},
     "output_type": "execute_result"
    }
   ],
   "source": [
    "keyword"
   ]
  },
  {
   "cell_type": "code",
   "execution_count": 9,
   "metadata": {
    "scrolled": true
   },
   "outputs": [
    {
     "name": "stdout",
     "output_type": "stream",
     "text": [
      "requests ->  500\n",
      "connect error\n"
     ]
    },
    {
     "ename": "NameError",
     "evalue": "name 'history_index' is not defined",
     "output_type": "error",
     "traceback": [
      "\u001b[1;31m-----------------------------------------------------------------------\u001b[0m",
      "\u001b[1;31mNameError\u001b[0m                             Traceback (most recent call last)",
      "\u001b[1;32m<ipython-input-9-825150b0da0d>\u001b[0m in \u001b[0;36m<module>\u001b[1;34m\u001b[0m\n\u001b[0;32m     37\u001b[0m         \u001b[1;32melse\u001b[0m\u001b[1;33m:\u001b[0m\u001b[1;33m\u001b[0m\u001b[1;33m\u001b[0m\u001b[0m\n\u001b[0;32m     38\u001b[0m             \u001b[0mprint\u001b[0m\u001b[1;33m(\u001b[0m\u001b[1;34m'connect error'\u001b[0m\u001b[1;33m)\u001b[0m\u001b[1;33m\u001b[0m\u001b[1;33m\u001b[0m\u001b[0m\n\u001b[1;32m---> 39\u001b[1;33m             \u001b[0mhistory\u001b[0m\u001b[1;33m.\u001b[0m\u001b[0mappend\u001b[0m\u001b[1;33m(\u001b[0m\u001b[1;33m{\u001b[0m\u001b[1;34m'status'\u001b[0m\u001b[1;33m:\u001b[0m\u001b[1;34m'connect'\u001b[0m\u001b[1;33m,\u001b[0m \u001b[1;34m'index'\u001b[0m\u001b[1;33m:\u001b[0m\u001b[0mhistory_index\u001b[0m\u001b[1;33m,\u001b[0m\u001b[1;34m'key'\u001b[0m\u001b[1;33m:\u001b[0m\u001b[0mkey\u001b[0m\u001b[1;33m,\u001b[0m \u001b[1;34m'page'\u001b[0m\u001b[1;33m:\u001b[0m\u001b[0mpage\u001b[0m\u001b[1;33m}\u001b[0m\u001b[1;33m)\u001b[0m\u001b[1;33m\u001b[0m\u001b[1;33m\u001b[0m\u001b[0m\n\u001b[0m\u001b[0;32m     40\u001b[0m \u001b[1;31m#         except:\u001b[0m\u001b[1;33m\u001b[0m\u001b[1;33m\u001b[0m\u001b[1;33m\u001b[0m\u001b[0m\n\u001b[0;32m     41\u001b[0m \u001b[1;31m#             print('error')\u001b[0m\u001b[1;33m\u001b[0m\u001b[1;33m\u001b[0m\u001b[1;33m\u001b[0m\u001b[0m\n",
      "\u001b[1;31mNameError\u001b[0m: name 'history_index' is not defined"
     ]
    }
   ],
   "source": [
    "# try:\n",
    "\n",
    "current = {\n",
    "    'index':None,\n",
    "    'key':None,\n",
    "    'page':None\n",
    "}\n",
    "for key in keyword:\n",
    "    for page in range(6, 11): # 2~last page (not key)\n",
    "#         try:\n",
    "        tmp_url = url.format(keyword=key, page=page)\n",
    "        current['key']=key\n",
    "        current['page']=page\n",
    "        \n",
    "        soup = getHtml(method='get', url=tmp_url)\n",
    "        if soup!=None:\n",
    "#             try:\n",
    "            item_soup = soup.find_all('li', class_='displayunit')\n",
    "            for i in item_soup:\n",
    "                index = i.a['href'].split('?')[0].split('/basic/')[-1]\n",
    "                current['index'] = index\n",
    "                date = i.find('span', class_='pubdate')\n",
    "                if date == None: # not date is not book\n",
    "                    print('not find date -> index:',index,', key:',key,', page:',page)\n",
    "                    break\n",
    "                data[index] = {\n",
    "                    'imgURL':i.find('img')[\"data-src\"],\n",
    "                    'title':i.find('h3', class_='pdnamebox').text,\n",
    "                    'price':i.find('div', class_='buymixbox').find_all('b')[-1].text,\n",
    "                    'date':date.b.text,\n",
    "                    'author':i.find('span', class_='author').find('a').text,\n",
    "                    'pub':i.find('span', class_='publish').find('a').text,\n",
    "                }\n",
    "#             except:\n",
    "#                 print('process error')\n",
    "#                 history.append({'key':key, 'page':page})\n",
    "        else:\n",
    "            print('connect error')\n",
    "            history.append({'status':'connect', current['index'], 'key':key, 'page':page})\n",
    "#         except:\n",
    "#             print('error')\n",
    "#             history.append({'key':key, 'page':page})\n",
    "        time.sleep(0.5)\n",
    "    time.sleep(120)\n",
    "# except KeyboardInterrupt:\n",
    "#     print('KeyboardInterrupt')\n",
    "\n",
    "if len(history)!=0:\n",
    "    with open('kingstone_error.txt', 'w+', encoding='utf-8') as fp:\n",
    "        fp.write(str(history))"
   ]
  },
  {
   "cell_type": "code",
   "execution_count": 13,
   "metadata": {},
   "outputs": [
    {
     "data": {
      "text/plain": [
       "{'key': 'django', 'page': 2}"
      ]
     },
     "execution_count": 13,
     "metadata": {},
     "output_type": "execute_result"
    }
   ],
   "source": [
    "current"
   ]
  },
  {
   "cell_type": "code",
   "execution_count": 13,
   "metadata": {},
   "outputs": [
    {
     "data": {
      "text/plain": [
       "[{'status': 'connect', 'key': '%E9%A7%AD%E5%AE%A2', 'page': 11},\n",
       " {'status': 'connect', 'key': '%E7%96%AB%E6%83%85', 'page': 7}]"
      ]
     },
     "execution_count": 13,
     "metadata": {},
     "output_type": "execute_result"
    }
   ],
   "source": [
    "history"
   ]
  },
  {
   "cell_type": "code",
   "execution_count": 2,
   "metadata": {},
   "outputs": [
    {
     "ename": "NameError",
     "evalue": "name 'data' is not defined",
     "output_type": "error",
     "traceback": [
      "\u001b[1;31m-----------------------------------------------------------------------\u001b[0m",
      "\u001b[1;31mNameError\u001b[0m                             Traceback (most recent call last)",
      "\u001b[1;32m<ipython-input-2-c6201f8cef64>\u001b[0m in \u001b[0;36m<module>\u001b[1;34m\u001b[0m\n\u001b[1;32m----> 1\u001b[1;33m \u001b[0mlen\u001b[0m\u001b[1;33m(\u001b[0m\u001b[0mdata\u001b[0m\u001b[1;33m)\u001b[0m\u001b[1;33m\u001b[0m\u001b[1;33m\u001b[0m\u001b[0m\n\u001b[0m",
      "\u001b[1;31mNameError\u001b[0m: name 'data' is not defined"
     ]
    }
   ],
   "source": [
    "len(data)"
   ]
  },
  {
   "cell_type": "code",
   "execution_count": 13,
   "metadata": {},
   "outputs": [
    {
     "name": "stdout",
     "output_type": "stream",
     "text": [
      "requests -> 200\n"
     ]
    }
   ],
   "source": [
    "tmp_url = url.format(keyword='python', page=9)\n",
    "soup = getHtml(method='get', url=tmp_url)"
   ]
  },
  {
   "cell_type": "code",
   "execution_count": 17,
   "metadata": {},
   "outputs": [],
   "source": [
    "item_soup = soup.find_all('li', class_='displayunit')\n",
    "tmp = item_soup[0]"
   ]
  },
  {
   "cell_type": "code",
   "execution_count": 31,
   "metadata": {},
   "outputs": [
    {
     "data": {
      "text/plain": [
       "'2020/12/1'"
      ]
     },
     "execution_count": 31,
     "metadata": {},
     "output_type": "execute_result"
    }
   ],
   "source": [
    "title = tmp.find('h3', class_='pdnamebox').text\n",
    "author = tmp.find('span', class_='author').find('a').text\n",
    "pub = tmp.find('span', class_='publish').find('a').text\n",
    "imgURL = tmp.find('img')[\"data-src\"]\n",
    "date = tmp.find('span', class_='pubdate').b.text\n",
    "price = tmp.find('div', class_='buymixbox').find_all('b')[-1].text\n",
    "index = tmp.a['href'].split('?')[0].split('/basic/')[-1]"
   ]
  },
  {
   "cell_type": "code",
   "execution_count": 1,
   "metadata": {},
   "outputs": [],
   "source": [
    "from bs4 import BeautifulSoup\n",
    "import re, requests, json, time\n",
    "\n",
    "def getHtml(method, url, params= None, data= None, encoding= 'utf-8'):\n",
    "    try:\n",
    "        headers = {\"User-Agent\": \"Mozilla/5.0 (Windows NT 10.0; Win64; x64) AppleWebKit/537.36 (KHTML, like Gecko) Chrome/86.0.4240.198 Safari/537.36 Edg/86.0.622.69\"}\n",
    "        if method == 'get':\n",
    "            req = requests.get(url, headers= headers, params= params)\n",
    "        elif method == 'post':\n",
    "            req = requests.post(url, headers= headers, data= data)\n",
    "        if req.status_code == 200:\n",
    "            print('requests -> 200')\n",
    "            req.encoding = encoding\n",
    "            return BeautifulSoup(req.text, 'html.parser')\n",
    "        print('requests -> ', req.status_code)\n",
    "        return None\n",
    "    except:\n",
    "        return None\n"
   ]
  },
  {
   "cell_type": "code",
   "execution_count": 3,
   "metadata": {},
   "outputs": [],
   "source": [
    "data ={}"
   ]
  },
  {
   "cell_type": "code",
   "execution_count": 8,
   "metadata": {},
   "outputs": [
    {
     "name": "stdout",
     "output_type": "stream",
     "text": [
      "requests -> 200\n",
      "requests -> 200\n",
      "requests -> 200\n",
      "requests -> 200\n",
      "requests -> 200\n"
     ]
    }
   ],
   "source": [
    "\n",
    "current = {\n",
    "    'index':None,\n",
    "    'page':None\n",
    "}\n",
    "for page in range(11, 16): # 2~last page (not key)\n",
    "    tmp_url = url.format(keyword='python', page=page)\n",
    "    current['page']=page\n",
    "\n",
    "    soup = getHtml(method='get', url=tmp_url)\n",
    "    if soup!=None:\n",
    "        item_soup = soup.find_all('li', class_='displayunit')\n",
    "        for i in item_soup:\n",
    "            index = i.a['href'].split('?')[0].split('/basic/')[-1]\n",
    "            current['index'] = index\n",
    "            date = i.find('span', class_='pubdate')\n",
    "            if date == None: # not date is not book\n",
    "                print('not find date -> index:',index,', key:',key,', page:',page)\n",
    "                break\n",
    "            data[index] = {\n",
    "                'imgURL':i.find('img')[\"data-src\"],\n",
    "                'title':i.find('h3', class_='pdnamebox').text,\n",
    "                'price':i.find('div', class_='buymixbox').find_all('b')[-1].text,\n",
    "                'date':date.b.text,\n",
    "                'author':i.find('span', class_='author').find('a').text,\n",
    "                'pub':i.find('span', class_='publish').find('a').text,\n",
    "            }\n",
    "    else:\n",
    "        print('connect error')\n",
    "    time.sleep(0.5)\n"
   ]
  },
  {
   "cell_type": "code",
   "execution_count": 12,
   "metadata": {},
   "outputs": [
    {
     "data": {
      "text/plain": [
       "357"
      ]
     },
     "execution_count": 12,
     "metadata": {},
     "output_type": "execute_result"
    }
   ],
   "source": [
    "len(data)"
   ]
  },
  {
   "cell_type": "code",
   "execution_count": 10,
   "metadata": {},
   "outputs": [],
   "source": [
    "data1 = data"
   ]
  }
 ],
 "metadata": {
  "kernelspec": {
   "display_name": "Python 3",
   "language": "python",
   "name": "python3"
  },
  "language_info": {
   "codemirror_mode": {
    "name": "ipython",
    "version": 3
   },
   "file_extension": ".py",
   "mimetype": "text/x-python",
   "name": "python",
   "nbconvert_exporter": "python",
   "pygments_lexer": "ipython3",
   "version": "3.8.2"
  }
 },
 "nbformat": 4,
 "nbformat_minor": 4
}
