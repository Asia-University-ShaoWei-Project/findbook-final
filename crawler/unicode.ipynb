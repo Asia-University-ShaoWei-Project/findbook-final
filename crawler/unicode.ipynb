{
 "cells": [
  {
   "cell_type": "code",
   "execution_count": 1,
   "metadata": {},
   "outputs": [],
   "source": [
    "import urllib"
   ]
  },
  {
   "cell_type": "code",
   "execution_count": null,
   "metadata": {},
   "outputs": [],
   "source": [
    "# 關鍵字轉碼\n",
    "keyword = []\n",
    "user_input_tmp = []\n",
    "while True:\n",
    "    text = input('keyword: ')\n",
    "    if text==\"0\":\n",
    "        break\n",
    "    elif text!='':\n",
    "        user_input_tmp.append(text)\n",
    "        keyword.append(urllib.parse.quote(text.encode('utf8')))\n",
    "# 要離開請輸入0\n",
    "\n",
    "# 完成後印出紀錄\n",
    "print('------------------------------')\n",
    "print(\"# keyword = \",keyword)\n",
    "print('#',', '.join(user_input_tmp))"
   ]
  },
  {
   "cell_type": "code",
   "execution_count": null,
   "metadata": {},
   "outputs": [],
   "source": []
  },
  {
   "cell_type": "code",
   "execution_count": null,
   "metadata": {},
   "outputs": [],
   "source": [
    "# keyword =  ['%E5%8B%95%E7%89%A9', '%E9%9B%BB%E8%85%A6', '%E7%A7%91%E6%8A%80', '%E7%A7%91%E5%AD%B8', '%E9%9B%BB%E5%AD%90', '%E5%9E%83%E5%9C%BE', '%E4%BD%A0%E5%AA%BD', '%E5%93%88%E5%93%88', '%E6%88%91%E5%B1%8C']\n",
    "# 動物, 電腦, 科技, 科學, 電子, 垃圾, 你媽, 哈哈, 我屌"
   ]
  },
  {
   "cell_type": "code",
   "execution_count": null,
   "metadata": {},
   "outputs": [],
   "source": [
    "# keyword =  [f\"%E6%BC%94%E7%AE%97%E6%B3%95\", f\"%E7%B7%9A%E6%80%A7%E4%BB%A3%E6%95%B8\", '%E5%AF%B5%E7%89%A9', '%E4%BC%91%E9%96%92', '%E4%BF%9D%E5%81%A5', '%E9%86%AB%E7%BE%8E', '3C']\n",
    "# 演算法, 線性, 寵物, 休閒, 保健, 醫美, 3C"
   ]
  },
  {
   "cell_type": "code",
   "execution_count": null,
   "metadata": {},
   "outputs": [],
   "source": [
    "# keyword = [f\"%E5%8B%95%E7%89%A9\", f\"%E9%9B%BB%E8%85%A6\", f\"%E7%A7%91%E6%8A%80\",f\"%E7%A7%91%E5%AD%B8\",f\"%E9%9B%BB%E5%AD%90\",]\n",
    "# 動物, 電腦, 科技, 科學, 電子"
   ]
  },
  {
   "cell_type": "code",
   "execution_count": null,
   "metadata": {},
   "outputs": [],
   "source": [
    "# keyword = [f\"%E5%81%A5%E5%BA%B7\", f\"%E5%B0%8F%E8%AA%AA\", f\"%E9%A7%AD%E5%AE%A2\",f\"%E7%96%AB%E6%83%85\",f\"%E6%BC%AB%E7%95%AB\",]\n",
    "# 健康, 小說, 駭客, 疫情, 漫畫"
   ]
  },
  {
   "cell_type": "code",
   "execution_count": null,
   "metadata": {},
   "outputs": [],
   "source": [
    "# keyword = ['python', 'java', 'PHP', 'Web', 'django',]"
   ]
  }
 ],
 "metadata": {
  "kernelspec": {
   "display_name": "Python 3",
   "language": "python",
   "name": "python3"
  },
  "language_info": {
   "codemirror_mode": {
    "name": "ipython",
    "version": 3
   },
   "file_extension": ".py",
   "mimetype": "text/x-python",
   "name": "python",
   "nbconvert_exporter": "python",
   "pygments_lexer": "ipython3",
   "version": "3.8.2"
  }
 },
 "nbformat": 4,
 "nbformat_minor": 4
}
