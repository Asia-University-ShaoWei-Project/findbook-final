{
 "cells": [
  {
   "cell_type": "code",
   "execution_count": 1,
   "metadata": {},
   "outputs": [],
   "source": [
    "import urllib"
   ]
  },
  {
   "cell_type": "code",
   "execution_count": null,
   "metadata": {},
   "outputs": [],
   "source": [
    "# 關鍵字轉碼\n",
    "keyword = []\n",
    "user_input_tmp = []\n",
    "while True:\n",
    "    text = input('keyword: ')\n",
    "    if text==\"0\":\n",
    "        break\n",
    "    elif text!='':\n",
    "        user_input_tmp.append(text)\n",
    "        keyword.append(urllib.parse.quote(text.encode('utf8')))\n",
    "print(\"# keyword = \",keyword)\n",
    "print('#',', '.join(user_input_tmp))"
   ]
  }
 ],
 "metadata": {
  "kernelspec": {
   "display_name": "Python 3",
   "language": "python",
   "name": "python3"
  },
  "language_info": {
   "codemirror_mode": {
    "name": "ipython",
    "version": 3
   },
   "file_extension": ".py",
   "mimetype": "text/x-python",
   "name": "python",
   "nbconvert_exporter": "python",
   "pygments_lexer": "ipython3",
   "version": "3.8.2"
  }
 },
 "nbformat": 4,
 "nbformat_minor": 4
}
