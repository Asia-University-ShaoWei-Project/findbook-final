{
 "cells": [
  {
   "cell_type": "code",
   "execution_count": 2,
   "metadata": {},
   "outputs": [],
   "source": [
    "from bs4 import BeautifulSoup\n",
    "import re, requests, json, time\n",
    "\n",
    "def getHtml(method, url, params= None, data= None, encoding= 'utf-8'):\n",
    "    try:\n",
    "        headers = {\"User-Agent\": \"Mozilla/5.0 (Windows NT 10.0; Win64; x64) AppleWebKit/537.36 (KHTML, like Gecko) Chrome/86.0.4240.198 Safari/537.36 Edg/86.0.622.69\"}\n",
    "        if method == 'get':\n",
    "            req = requests.get(url, headers= headers, params= params)\n",
    "        elif method == 'post':\n",
    "            req = requests.post(url, headers= headers, data= data)\n",
    "        if req.status_code == 200:\n",
    "            print('requests -> 200')\n",
    "            req.encoding = encoding\n",
    "            return BeautifulSoup(req.text, 'html.parser')\n",
    "        print('requests -> ', req.status_code)\n",
    "        return None\n",
    "    except:\n",
    "        return None\n",
    "def textClean(splitChar='', text='', loop=1, reRight=True, notReverse = True): #\n",
    "    myIndex = 1 if notReverse else 0\n",
    "    myLoop = 0\n",
    "    myRange = text if notReverse else reversed(text)\n",
    "    for i in myRange:\n",
    "        if i == splitChar: \n",
    "            myLoop+=1\n",
    "            if myLoop==loop: \n",
    "                if reRight:\n",
    "                    return text[myIndex:] if notReverse else text[-myIndex:] # 由index至右\n",
    "                return text[:myIndex] if notReverse else text[:-myIndex] # 由左至index\n",
    "        myIndex+=1"
   ]
  },
  {
   "cell_type": "code",
   "execution_count": 1,
   "metadata": {},
   "outputs": [],
   "source": []
  },
  {
   "cell_type": "code",
   "execution_count": 3,
   "metadata": {},
   "outputs": [],
   "source": []
  },
  {
   "cell_type": "code",
   "execution_count": 1,
   "metadata": {},
   "outputs": [
    {
     "ename": "NameError",
     "evalue": "name 'soup' is not defined",
     "output_type": "error",
     "traceback": [
      "\u001b[1;31m---------------------------------------------------------------------------\u001b[0m",
      "\u001b[1;31mNameError\u001b[0m                                 Traceback (most recent call last)",
      "\u001b[1;32m<ipython-input-1-6c73a90842fd>\u001b[0m in \u001b[0;36m<module>\u001b[1;34m\u001b[0m\n\u001b[1;32m----> 1\u001b[1;33m \u001b[0mitem_soup\u001b[0m \u001b[1;33m=\u001b[0m \u001b[0msoup\u001b[0m\u001b[1;33m.\u001b[0m\u001b[0mfind\u001b[0m\u001b[1;33m(\u001b[0m\u001b[1;34m'div'\u001b[0m\u001b[1;33m,\u001b[0m \u001b[0mid\u001b[0m\u001b[1;33m=\u001b[0m\u001b[1;34m'search_content'\u001b[0m\u001b[1;33m)\u001b[0m\u001b[1;33m.\u001b[0m\u001b[0mfind_all\u001b[0m\u001b[1;33m(\u001b[0m\u001b[1;34m'table'\u001b[0m\u001b[1;33m,\u001b[0m \u001b[1;33m{\u001b[0m\u001b[1;34m\"border\"\u001b[0m\u001b[1;33m:\u001b[0m\u001b[1;36m0\u001b[0m\u001b[1;33m}\u001b[0m\u001b[1;33m)\u001b[0m\u001b[1;33m\u001b[0m\u001b[1;33m\u001b[0m\u001b[0m\n\u001b[0m",
      "\u001b[1;31mNameError\u001b[0m: name 'soup' is not defined"
     ]
    }
   ],
   "source": []
  },
  {
   "cell_type": "code",
   "execution_count": 7,
   "metadata": {},
   "outputs": [
    {
     "data": {
      "text/plain": [
       "'http://www.eslite.com/Search_BW.aspx?query=python&searchType=&page=1'"
      ]
     },
     "execution_count": 7,
     "metadata": {},
     "output_type": "execute_result"
    }
   ],
   "source": [
    "url"
   ]
  },
  {
   "cell_type": "code",
   "execution_count": null,
   "metadata": {},
   "outputs": [],
   "source": []
  },
  {
   "cell_type": "code",
   "execution_count": null,
   "metadata": {},
   "outputs": [],
   "source": [
    "data.append(\n",
    "                {\n",
    "                    'index': i.find('input')['value'],\n",
    "                    'imgURL': i.find('img')['data-original'].split('&w=')[0],\n",
    "                    'title': i.find('h3').a['title'],\n",
    "                    'price': i.find('span', class_='price').findAll('strong')[-1].b.text,\n",
    "                    'date': i.find(text=re.compile('出版日期')).split(':')[-1].strip(),\n",
    "                    'author': ', '.join([j['title'] for j in i.findAll('a', {'rel': 'go_author'})]),\n",
    "                    'pub': i.find('a', {'rel': 'mid_publish'}).text,\n",
    "                }\n",
    "            )"
   ]
  },
  {
   "cell_type": "code",
   "execution_count": 21,
   "metadata": {},
   "outputs": [
    {
     "name": "stdout",
     "output_type": "stream",
     "text": [
      "['1730', '1407', '1881', '1155', '1899', '1892', '1371', '1620', '1398', '1991']\n"
     ]
    }
   ],
   "source": [
    "# from django.core.serializers import serialize\n",
    "\n",
    "# rq_store = 'books'\n",
    "\n",
    "# num_list = []\n",
    "# resoult_data = []\n",
    "# find_model = None\n",
    "\n",
    "# item_indexs = ['1730', '1407', '1881', '1155', '1899', '1892', '1371', '1620', '1398', '1991']\n",
    "# index_count = len(item_indexs)\n",
    "\n",
    "# if rq_store=='books':\n",
    "#     find_model = IndexBooks.objects.filter(index__in = item_indexs)\n",
    "# elif rq_store=='sanmin':\n",
    "#     find_model = IndexSanmin.objects.filter(index__in = item_indexs)\n",
    "# elif rq_store=='kingStone':\n",
    "#     find_model = IndexKingStone.objects.filter(index__in = item_indexs)\n",
    "# elif rq_store=='eslite'\n",
    "#     find_model = IndexEslite.objects.filter(index__in = item_indexs)\n",
    "    \n",
    "# for i in range(index_len):    \n",
    "#     num_list.append(i)\n",
    "#     resoult_data.append(None)\n",
    "\n",
    "# for i in find_model:\n",
    "#     tmp_index = item_indexs.index(i['index'][rq_store])\n",
    "#     num_list.remove(tmp_index)\n",
    "#     resoult_data[tmp_index] = serialize('json', i.book)\n",
    "\n",
    "# itmes_soup = soup.find_all('div', class_='items')\n",
    "\n",
    "# for i in num_list:\n",
    "#     tmp = items_soup[i]\n",
    "#     resoult_data[i] = {\n",
    "#         'title': tmp.find('h1')\n",
    "#         ...\n",
    "#     }\n",
    "    \n",
    "    \n",
    "    \n",
    "    "
   ]
  },
  {
   "cell_type": "code",
   "execution_count": 19,
   "metadata": {},
   "outputs": [],
   "source": [
    "import random\n",
    "indexs = []\n",
    "for i in range(10):\n",
    "    indexs.append(str(random.randint(1000,2000)))\n"
   ]
  },
  {
   "cell_type": "code",
   "execution_count": 18,
   "metadata": {},
   "outputs": [
    {
     "data": {
      "text/plain": [
       "'何敏煌/ 葉柏漢/ 顏凰竹著\\xa0'"
      ]
     },
     "execution_count": 18,
     "metadata": {},
     "output_type": "execute_result"
    }
   ],
   "source": [
    "soup.find_all('td', class_='summary')[0].find('span').text"
   ]
  },
  {
   "cell_type": "code",
   "execution_count": null,
   "metadata": {},
   "outputs": [],
   "source": [
    "ctl00$ContentPlaceHolder1$ddlOrderBy  0"
   ]
  },
  {
   "cell_type": "code",
   "execution_count": null,
   "metadata": {},
   "outputs": [],
   "source": []
  }
 ],
 "metadata": {
  "kernelspec": {
   "display_name": "Python 3",
   "language": "python",
   "name": "python3"
  },
  "language_info": {
   "codemirror_mode": {
    "name": "ipython",
    "version": 3
   },
   "file_extension": ".py",
   "mimetype": "text/x-python",
   "name": "python",
   "nbconvert_exporter": "python",
   "pygments_lexer": "ipython3",
   "version": "3.8.2"
  }
 },
 "nbformat": 4,
 "nbformat_minor": 4
}
