{
 "cells": [
  {
   "cell_type": "code",
   "execution_count": 21,
   "metadata": {},
   "outputs": [],
   "source": [
    "import json\n",
    "import requests as req"
   ]
  },
  {
   "cell_type": "code",
   "execution_count": 69,
   "metadata": {},
   "outputs": [],
   "source": [
    "def api_result_data(**kwargs):\n",
    "    print('U')\n",
    "    def key_exist(key):\n",
    "        print('key_exist')\n",
    "        return kwargs[key] if key in kwargs else None\n",
    "    if kwargs['select'] == 0: # base\n",
    "        print(0)\n",
    "        return {\n",
    "            'count': key_exist['count'],\n",
    "        }\n",
    "    elif kwargs['select'] == 1: # info\n",
    "        print(1)\n",
    "        return {\n",
    "            'id': key_exist['ID'],\n",
    "            'index': key_exist['index'],\n",
    "            # 'count': key_exist['count'],\n",
    "            'type': key_exist['Type'],\n",
    "                # 'index':\tkey_exist['index'],\n",
    "            }\n",
    "    return {'d':0}"
   ]
  },
  {
   "cell_type": "code",
   "execution_count": 42,
   "metadata": {},
   "outputs": [],
   "source": [
    "url = \"http://140.128.138.208/webpac/msearchapi/{isbn}/1\".format(isbn=isbn)\n",
    "data = requests.get(url).json()"
   ]
  },
  {
   "cell_type": "code",
   "execution_count": 54,
   "metadata": {},
   "outputs": [
    {
     "data": {
      "text/plain": [
       "1"
      ]
     },
     "execution_count": 54,
     "metadata": {},
     "output_type": "execute_result"
    }
   ],
   "source": [
    "data['total']"
   ]
  },
  {
   "cell_type": "code",
   "execution_count": 70,
   "metadata": {},
   "outputs": [
    {
     "name": "stdout",
     "output_type": "stream",
     "text": [
      "True\n",
      "process base\n",
      "process info\n",
      "U\n",
      "1\n"
     ]
    },
    {
     "ename": "TypeError",
     "evalue": "'function' object is not subscriptable",
     "output_type": "error",
     "traceback": [
      "\u001b[1;31m---------------------------------------------------------------------------\u001b[0m",
      "\u001b[1;31mTypeError\u001b[0m                                 Traceback (most recent call last)",
      "\u001b[1;32m<ipython-input-70-50ca5a1abcf4>\u001b[0m in \u001b[0;36m<module>\u001b[1;34m\u001b[0m\n\u001b[0;32m     10\u001b[0m \u001b[0mprint\u001b[0m\u001b[1;33m(\u001b[0m\u001b[1;34m'process info'\u001b[0m\u001b[1;33m)\u001b[0m\u001b[1;33m\u001b[0m\u001b[1;33m\u001b[0m\u001b[0m\n\u001b[0;32m     11\u001b[0m \u001b[1;32mfor\u001b[0m \u001b[0mi\u001b[0m \u001b[1;32min\u001b[0m \u001b[0minfo\u001b[0m\u001b[1;33m:\u001b[0m\u001b[1;33m\u001b[0m\u001b[1;33m\u001b[0m\u001b[0m\n\u001b[1;32m---> 12\u001b[1;33m     result['info'].append(api_result_data(\n\u001b[0m\u001b[0;32m     13\u001b[0m         \u001b[0mselect\u001b[0m\u001b[1;33m=\u001b[0m\u001b[1;36m1\u001b[0m\u001b[1;33m,\u001b[0m\u001b[1;33m\u001b[0m\u001b[1;33m\u001b[0m\u001b[0m\n\u001b[0;32m     14\u001b[0m         \u001b[0mID\u001b[0m\u001b[1;33m=\u001b[0m\u001b[0mi\u001b[0m\u001b[1;33m[\u001b[0m\u001b[1;34m'id'\u001b[0m\u001b[1;33m]\u001b[0m \u001b[1;32mif\u001b[0m \u001b[1;34m'id'\u001b[0m \u001b[1;32min\u001b[0m \u001b[0mi\u001b[0m \u001b[1;32melse\u001b[0m \u001b[1;32mNone\u001b[0m\u001b[1;33m,\u001b[0m\u001b[1;33m\u001b[0m\u001b[1;33m\u001b[0m\u001b[0m\n",
      "\u001b[1;32m<ipython-input-69-763d8e684749>\u001b[0m in \u001b[0;36mapi_result_data\u001b[1;34m(**kwargs)\u001b[0m\n\u001b[0;32m     12\u001b[0m         \u001b[0mprint\u001b[0m\u001b[1;33m(\u001b[0m\u001b[1;36m1\u001b[0m\u001b[1;33m)\u001b[0m\u001b[1;33m\u001b[0m\u001b[1;33m\u001b[0m\u001b[0m\n\u001b[0;32m     13\u001b[0m         return {\n\u001b[1;32m---> 14\u001b[1;33m             \u001b[1;34m'id'\u001b[0m\u001b[1;33m:\u001b[0m \u001b[0mkey_exist\u001b[0m\u001b[1;33m[\u001b[0m\u001b[1;34m'ID'\u001b[0m\u001b[1;33m]\u001b[0m\u001b[1;33m,\u001b[0m\u001b[1;33m\u001b[0m\u001b[1;33m\u001b[0m\u001b[0m\n\u001b[0m\u001b[0;32m     15\u001b[0m             \u001b[1;34m'index'\u001b[0m\u001b[1;33m:\u001b[0m \u001b[0mkey_exist\u001b[0m\u001b[1;33m[\u001b[0m\u001b[1;34m'index'\u001b[0m\u001b[1;33m]\u001b[0m\u001b[1;33m,\u001b[0m\u001b[1;33m\u001b[0m\u001b[1;33m\u001b[0m\u001b[0m\n\u001b[0;32m     16\u001b[0m             \u001b[1;31m# 'count': key_exist['count'],\u001b[0m\u001b[1;33m\u001b[0m\u001b[1;33m\u001b[0m\u001b[1;33m\u001b[0m\u001b[0m\n",
      "\u001b[1;31mTypeError\u001b[0m: 'function' object is not subscriptable"
     ]
    }
   ],
   "source": [
    "result = {'base':None, 'info':[]}\n",
    "exist = False if len(data['results']) == 0 else True\n",
    "print(exist)\n",
    "info = data['results']\n",
    "print('process base')\n",
    "# result['base'] = api_result_data(\n",
    "#     select=0,\n",
    "#     count=data['total']\n",
    "# )\n",
    "print('process info')\n",
    "for i in info:\n",
    "    result['info'].append(api_result_data(\n",
    "        select=1,\n",
    "        ID=i['id'] if 'id' in i else None,\n",
    "        index=i['docid'] if 'docid' in i else None,\n",
    "        # count=i['total'] if 'total' in i else None,\n",
    "        Type=1 if \"電子書\" in i['type'] else 0,\n",
    "    ) if exist else {})\n",
    "    print('d')\n",
    "# print({'status': status, 'info': result})"
   ]
  },
  {
   "cell_type": "code",
   "execution_count": 53,
   "metadata": {},
   "outputs": [
    {
     "name": "stdout",
     "output_type": "stream",
     "text": [
      "0\n"
     ]
    }
   ],
   "source": [
    "def t(**k):\n",
    "    print(k['a'])\n",
    "t(a=0,u=77)"
   ]
  },
  {
   "cell_type": "code",
   "execution_count": 2,
   "metadata": {},
   "outputs": [],
   "source": [
    "url = 'http://webpac.lib.pu.edu.tw/webpac/apiServiceV2.do?method=BookSearchModel:BookQuery&parameter=input:{isbn}&parameter=field:ISBN&parameter=keepsite:ALL&parameter=nowpage:1&parameter=pagesize:50'\n",
    "isbn = '9789863477310'\n",
    "req = requests.get(url.format(isbn=isbn))"
   ]
  },
  {
   "cell_type": "code",
   "execution_count": 11,
   "metadata": {},
   "outputs": [
    {
     "data": {
      "text/plain": [
       "False"
      ]
     },
     "execution_count": 11,
     "metadata": {},
     "output_type": "execute_result"
    }
   ],
   "source": [
    "a.json() == None"
   ]
  },
  {
   "cell_type": "code",
   "execution_count": 12,
   "metadata": {},
   "outputs": [
    {
     "data": {
      "text/plain": [
       "[{'abbr': [''],\n",
       "  'authors': ['侯外廬,趙紀彬,杜國庠著.'],\n",
       "  'ava': 'available',\n",
       "  'coverurl': [''],\n",
       "  'docnumber': '006168881',\n",
       "  'format': 'BK',\n",
       "  'isbn': '9787010089607',\n",
       "  'publish': '人民,',\n",
       "  'subject': ['哲學', '歷史', '歷史 -- 中國'],\n",
       "  'title': ['中國思想通史 /'],\n",
       "  'url': [''],\n",
       "  'version': '第1版',\n",
       "  'year': '2011[民100].'},\n",
       " {'abbr': [''],\n",
       "  'authors': ['侯外廬主編.'],\n",
       "  'coverurl': [''],\n",
       "  'docnumber': '005002268',\n",
       "  'format': 'BK',\n",
       "  'isbn': '',\n",
       "  'publish': '新華書店發行',\n",
       "  'subject': [''],\n",
       "  'title': ['中國思想通史'],\n",
       "  'url': [''],\n",
       "  'version': '第一版.',\n",
       "  'year': '民46[1957]'}]"
      ]
     },
     "execution_count": 12,
     "metadata": {},
     "output_type": "execute_result"
    }
   ],
   "source": [
    "a.json()"
   ]
  },
  {
   "cell_type": "code",
   "execution_count": null,
   "metadata": {},
   "outputs": [],
   "source": []
  },
  {
   "cell_type": "code",
   "execution_count": 3,
   "metadata": {},
   "outputs": [],
   "source": [
    "from xml.etree import ElementTree\n",
    "tree = ElementTree.fromstring(req.content)"
   ]
  },
  {
   "cell_type": "code",
   "execution_count": 26,
   "metadata": {},
   "outputs": [
    {
     "name": "stdout",
     "output_type": "stream",
     "text": [
      "<?xml version=\"1.0\" encoding=\"UTF-8\"?>\r\n",
      "<Root status=\"success\"><ModelCache><resid>189071364</resid></ModelCache><display><field tag=\"title\" type=\"title\"></field><field tag=\"isbn\"><![CDATA[ISBN]]></field><field tag=\"pubyear\"><![CDATA[出版年]]></field><field tag=\"imgUrl\" type=\"image\"></field><field tag=\"holdcnt\" type=\"count\"></field></display><SortableFields><field name=\"作者 \" paramName=\"sortfield:OPN\" /><field name=\"正題名\" paramName=\"sortfield:OTI\" /><field name=\"出版年 \" paramName=\"sortfield:YEAR\" /></SortableFields><Rows data-count=\"1\"><row method=\"GetBookDetail\" module=\"BookSearchModel\" targetType=\"hylib\"><imgUrl><![CDATA[http://www.books.com.tw/image/getImage?i=https://www.books.com.tw/img/001/069/00/0010690075.jpg&v=55f2adde&w=348&h=348]]></imgUrl><PACIMG><![CDATA[http://www.books.com.tw/image/getImage?i=https://www.books.com.tw/img/001/069/00/0010690075.jpg&v=55f2adde&w=348&h=348|0|http://www.books.com.tw/products/0010690075|博客來網路書店|1]]></PACIMG><sid><![CDATA[1179856]]></sid><title><![CDATA[精通Python:運用簡單的套件進行現代運算]]></title><PACISBN><![CDATA[9789863477310]]></PACISBN><isbn><![CDATA[978-986-347-731-0]]></isbn><lang1></lang1><publish><![CDATA[2017[民106]]]></publish><pubyear><![CDATA[2017[民106]]]></pubyear><holdcnt>1</holdcnt><params><param value=\"1179856\" name=\"id\" /></params></row></Rows><sessionKey></sessionKey></Root>\r\n",
      "\n"
     ]
    }
   ],
   "source": [
    "print(req.text)"
   ]
  },
  {
   "cell_type": "code",
   "execution_count": 37,
   "metadata": {},
   "outputs": [
    {
     "data": {
      "text/plain": [
       "[('tag', 'title'), ('type', 'title')]"
      ]
     },
     "execution_count": 37,
     "metadata": {},
     "output_type": "execute_result"
    }
   ],
   "source": [
    "tree.find('display')[0].items()\n",
    "# tree."
   ]
  },
  {
   "cell_type": "code",
   "execution_count": 1,
   "metadata": {},
   "outputs": [
    {
     "ename": "NameError",
     "evalue": "name 'req' is not defined",
     "output_type": "error",
     "traceback": [
      "\u001b[1;31m---------------------------------------------------------------------------\u001b[0m",
      "\u001b[1;31mNameError\u001b[0m                                 Traceback (most recent call last)",
      "\u001b[1;32m<ipython-input-1-4d97d48a0792>\u001b[0m in \u001b[0;36m<module>\u001b[1;34m\u001b[0m\n\u001b[1;32m----> 1\u001b[1;33m \u001b[0mreq\u001b[0m\u001b[1;33m.\u001b[0m\u001b[0mraw\u001b[0m\u001b[1;33m.\u001b[0m\u001b[0mdecode_content\u001b[0m \u001b[1;33m=\u001b[0m \u001b[1;32mTrue\u001b[0m\u001b[1;33m\u001b[0m\u001b[1;33m\u001b[0m\u001b[0m\n\u001b[0m\u001b[0;32m      2\u001b[0m \u001b[1;33m\u001b[0m\u001b[0m\n\u001b[0;32m      3\u001b[0m \u001b[0mevents\u001b[0m \u001b[1;33m=\u001b[0m \u001b[0mElementTree\u001b[0m\u001b[1;33m.\u001b[0m\u001b[0miterparse\u001b[0m\u001b[1;33m(\u001b[0m\u001b[0mreq\u001b[0m\u001b[1;33m.\u001b[0m\u001b[0mraw\u001b[0m\u001b[1;33m)\u001b[0m\u001b[1;33m\u001b[0m\u001b[1;33m\u001b[0m\u001b[0m\n\u001b[0;32m      4\u001b[0m \u001b[1;32mfor\u001b[0m \u001b[0mevent\u001b[0m\u001b[1;33m,\u001b[0m \u001b[0melem\u001b[0m \u001b[1;32min\u001b[0m \u001b[0mevents\u001b[0m\u001b[1;33m:\u001b[0m\u001b[1;33m\u001b[0m\u001b[1;33m\u001b[0m\u001b[0m\n\u001b[0;32m      5\u001b[0m     \u001b[0mprint\u001b[0m\u001b[1;33m(\u001b[0m\u001b[0melem\u001b[0m\u001b[1;33m)\u001b[0m\u001b[1;33m\u001b[0m\u001b[1;33m\u001b[0m\u001b[0m\n",
      "\u001b[1;31mNameError\u001b[0m: name 'req' is not defined"
     ]
    }
   ],
   "source": [
    "req.raw.decode_content = True\n",
    "\n",
    "events = ElementTree.iterparse(req.raw)\n",
    "for event, elem in events:\n",
    "    print(elem)\n",
    "    # do something with `elem`"
   ]
  },
  {
   "cell_type": "code",
   "execution_count": 14,
   "metadata": {},
   "outputs": [
    {
     "data": {
      "text/plain": [
       "True"
      ]
     },
     "execution_count": 14,
     "metadata": {},
     "output_type": "execute_result"
    }
   ],
   "source": [
    "'data-count' in tree.find('Rows').items()[0]"
   ]
  }
 ],
 "metadata": {
  "kernelspec": {
   "display_name": "Python 3",
   "language": "python",
   "name": "python3"
  },
  "language_info": {
   "codemirror_mode": {
    "name": "ipython",
    "version": 3
   },
   "file_extension": ".py",
   "mimetype": "text/x-python",
   "name": "python",
   "nbconvert_exporter": "python",
   "pygments_lexer": "ipython3",
   "version": "3.8.5"
  }
 },
 "nbformat": 4,
 "nbformat_minor": 2
}
