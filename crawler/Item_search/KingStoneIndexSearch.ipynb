{
 "cells": [
  {
   "cell_type": "code",
   "execution_count": 1,
   "metadata": {},
   "outputs": [],
   "source": [
    "from bs4 import BeautifulSoup\n",
    "from fake_useragent import UserAgent\n",
    "import requests\n",
    "import re\n",
    "import json\n",
    "import time\n",
    "def getHtml(method, url, params= None, data= None, encoding= 'utf-8'):\n",
    "    try:\n",
    "    # headers = {'user-agent':\"Mozilla/5.0 (Windows NT 10.0; Win64; x64) AppleWebKit/537.36 (KHTML, like Gecko) Chrome/79.0.3945.130 Safari/537.36\"}\n",
    "    # req = requests.request(req_type, url, data)\n",
    "        headers = {'user-agent':str(UserAgent().random)}\n",
    "\n",
    "        if method == 'get':\n",
    "            req = requests.get(url, headers= headers, params= params)\n",
    "        elif method == 'post':\n",
    "            req = requests.post(url, headers= headers, data= data)\n",
    "            \n",
    "        # req=requests.get(url, headers= headers, params= params)\n",
    "        if req.status_code == 200:\n",
    "            print('requests -> 200')\n",
    "            req.encoding = encoding\n",
    "            return BeautifulSoup(req.text, 'html.parser')\n",
    "        print('requests -> ', req.status_code)\n",
    "        return None\n",
    "    except:\n",
    "        print('Error')\n",
    "        return None\n",
    "    \n",
    "def textClean(splitChar='', text='', loop=1, reRight=True, notReverse = True): #\n",
    "    myIndex = 1 if notReverse else 0\n",
    "    myLoop = 0\n",
    "    myRange = text if notReverse else reversed(text)\n",
    "    for i in myRange:\n",
    "        if i == splitChar: \n",
    "            myLoop+=1\n",
    "            if myLoop==loop: \n",
    "                if reRight:\n",
    "                    return text[myIndex:] if notReverse else text[-myIndex:] # 由index至右\n",
    "                return text[:myIndex] if notReverse else text[:-myIndex] # 由左至index\n",
    "        myIndex+=1"
   ]
  }
 ],
 "metadata": {
  "kernelspec": {
   "display_name": "Python 3",
   "language": "python",
   "name": "python3"
  },
  "language_info": {
   "codemirror_mode": {
    "name": "ipython",
    "version": 3
   },
   "file_extension": ".py",
   "mimetype": "text/x-python",
   "name": "python",
   "nbconvert_exporter": "python",
   "pygments_lexer": "ipython3",
   "version": "3.7.3"
  }
 },
 "nbformat": 4,
 "nbformat_minor": 4
}
