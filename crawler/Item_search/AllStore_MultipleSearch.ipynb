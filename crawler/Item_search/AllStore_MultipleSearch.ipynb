{
 "cells": [
  {
   "cell_type": "code",
   "execution_count": 1,
   "metadata": {},
   "outputs": [],
   "source": [
    "from bs4 import BeautifulSoup\n",
    "from fake_useragent import UserAgent\n",
    "import re, requests, json, time\n",
    "\n",
    "def getHtml(method, url, params= None, data= None, encoding= 'utf-8'):\n",
    "    try:\n",
    "        headers = {'user-agent':str(UserAgent().random)}\n",
    "        if method == 'get':\n",
    "            req = requests.get(url, headers= headers, params= params)\n",
    "        elif method == 'post':\n",
    "            req = requests.post(url, headers= headers, data= data)\n",
    "        if req.status_code == 200:\n",
    "            print('requests -> 200')\n",
    "            req.encoding = encoding\n",
    "            return BeautifulSoup(req.text, 'html.parser')\n",
    "        print('requests -> ', req.status_code)\n",
    "        return None\n",
    "    except:\n",
    "        return None\n",
    "def textClean(splitChar='', text='', loop=1, reRight=True, notReverse = True): #\n",
    "    myIndex = 1 if notReverse else 0\n",
    "    myLoop = 0\n",
    "    myRange = text if notReverse else reversed(text)\n",
    "    for i in myRange:\n",
    "        if i == splitChar: \n",
    "            myLoop+=1\n",
    "            if myLoop==loop: \n",
    "                if reRight:\n",
    "                    return text[myIndex:] if notReverse else text[-myIndex:] # 由index至右\n",
    "                return text[:myIndex] if notReverse else text[:-myIndex] # 由左至index\n",
    "        myIndex+=1"
   ]
  },
  {
   "cell_type": "markdown",
   "metadata": {},
   "source": [
    "## Soup Data"
   ]
  },
  {
   "cell_type": "code",
   "execution_count": null,
   "metadata": {},
   "outputs": [],
   "source": [
    "sele = input(\"select store: \")\n",
    "url = {\n",
    "    'books':f\"https://search.books.com.tw/search/query/key/python/cat/BKA\",\n",
    "    'sanmin':f\"https://www.sanmin.com.tw/search/index/?ct=K&qu=python&ls=SD\",\n",
    "    'kingstone':\n",
    "}"
   ]
  },
  {
   "cell_type": "markdown",
   "metadata": {},
   "source": [
    "## Books"
   ]
  },
  {
   "cell_type": "code",
   "execution_count": null,
   "metadata": {},
   "outputs": [],
   "source": [
    "for i in soup.find('ul', class_='searchbook').findAll('li', class_=\"item\"):\n",
    "    data.append(\n",
    "            {\n",
    "                'index': i.find('input', {'type': 'checkbox'})['value'],\n",
    "                'img': i.find('img')['data-original'].split('&w=')[0],\n",
    "                'title': i.find('h3').a['title'],\n",
    "                'price': i.find('span', class_='price').findAll('strong')[-1].b.text,\n",
    "                'date': i.find(text=re.compile('出版日期')).split(':')[-1].strip(),\n",
    "                'author': ', '.join([j['title'] for j in i.findAll('a', {'rel': 'go_author'})]),\n",
    "                'pub': i.find('a', {'rel': 'mid_publish'}).text,\n",
    "            }\n",
    "        )"
   ]
  }
 ],
 "metadata": {
  "kernelspec": {
   "display_name": "Python 3",
   "language": "python",
   "name": "python3"
  },
  "language_info": {
   "codemirror_mode": {
    "name": "ipython",
    "version": 3
   },
   "file_extension": ".py",
   "mimetype": "text/x-python",
   "name": "python",
   "nbconvert_exporter": "python",
   "pygments_lexer": "ipython3",
   "version": "3.8.5"
  }
 },
 "nbformat": 4,
 "nbformat_minor": 4
}
