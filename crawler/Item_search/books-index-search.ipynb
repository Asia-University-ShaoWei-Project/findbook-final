{
 "cells": [
  {
   "cell_type": "code",
   "execution_count": 1,
   "metadata": {},
   "outputs": [],
   "source": [
    "from bs4 import BeautifulSoup\n",
    "import requests\n",
    "# import requests_async as requests\n",
    "from fake_useragent import UserAgent\n",
    "# import asyncio\n",
    "def getHtml(method, url, params= None, data= None, encoding= 'utf-8'):\n",
    "    try:\n",
    "    # headers = {'user-agent':\"Mozilla/5.0 (Windows NT 10.0; Win64; x64) AppleWebKit/537.36 (KHTML, like Gecko) Chrome/79.0.3945.130 Safari/537.36\"}\n",
    "    # req = requests.request(req_type, url, data)\n",
    "        headers = {'user-agent':str(UserAgent().random)}\n",
    "\n",
    "        if method == 'get':\n",
    "            req = requests.get(url, headers= headers, params= params)\n",
    "        elif method == 'post':\n",
    "            req = requests.post(url, headers= headers, data= data)\n",
    "            \n",
    "        # req=requests.get(url, headers= headers, params= params)\n",
    "        if req.status_code == 200:\n",
    "            print('requests -> 200')\n",
    "            req.encoding = encoding\n",
    "            return BeautifulSoup(req.text, 'html.parser')\n",
    "        print('requests -> ', req.status_code)\n",
    "        return None\n",
    "    except:\n",
    "        return None"
   ]
  },
  {
   "cell_type": "code",
   "execution_count": 2,
   "metadata": {},
   "outputs": [],
   "source": [
    "def textClean(splitChar='', text='', loop=1, reRight=True, notReverse = True): #\n",
    "    myIndex = 1 if notReverse else 0\n",
    "    myLoop = 0\n",
    "    myRange = text if notReverse else reversed(text)\n",
    "    for i in myRange:\n",
    "        if i == splitChar: \n",
    "            myLoop+=1\n",
    "            if myLoop==loop: \n",
    "                if reRight:\n",
    "                    return text[myIndex:] if notReverse else text[-myIndex:] # 由index至右\n",
    "                return text[:myIndex] if notReverse else text[:-myIndex] # 由左至index\n",
    "        myIndex+=1"
   ]
  },
  {
   "cell_type": "code",
   "execution_count": 3,
   "metadata": {},
   "outputs": [],
   "source": [
    "def initIndexSearch(storeFrom, reqKey):\n",
    "    check = False\n",
    "    urls = [\n",
    "        'https://www.books.com.tw/products/%s?sloc=main',\n",
    "        \"https://www.sanmin.com.tw/Product/index/%s\"\n",
    "    ]\n",
    "    url = urls[storeFrom] % reqKey\n",
    "    soup = getHtml(method='get', url=url)\n",
    "    if bool(soup): check = True\n",
    "    \n",
    "    # books\n",
    "    if check:\n",
    "        infoData = {'title':None, 'isbn':None, 'page':None, 'pub':None, 'author':None, 'date':None, 'price':None}\n",
    "        if storeFrom == 0: booksIndexSearch(soup=soup , infoData=infoData, intrData=[])\n",
    "        elif sotoreFrom == 1: \n",
    "            sanminIndexSearch(soup)\n",
    "    else:\n",
    "        return  0"
   ]
  },
  {
   "cell_type": "code",
   "execution_count": 4,
   "metadata": {},
   "outputs": [],
   "source": [
    "def books(soup, infoData, intrData):\n",
    "    # --- Price ---\n",
    "    infoData['price'] = soup.find('strong',class_='price01').text\n",
    "    # --- Image URL---\n",
    "    imgURL = []\n",
    "    for i in soup.findAll('ul', class_='li_box'):\n",
    "        for j in i.findAll('li'):\n",
    "            tmp = j.img['src']\n",
    "            imgURL.append(\"%s%s\" % (tmp[8:11], tmp.split('/img/')[1].split('&v=')[0]))\n",
    "    # --- Information ---\n",
    "    tag = {'書名':'title','ISBN':'isbn','頁數':'page','出版社':'pub','作者':'author', '出版日期':'date'}\n",
    "    findInfo = soup.find('meta', {'name':'description'})['content']\n",
    "    for i in findInfo.split('，'):  # book info處理\n",
    "        tmp = i.split('：')\n",
    "        if len(tmp)>2: tmp = [tmp[0], textClean(splitChar='：', text=i, loop=1)] # 標題, 內容(防止內容出現':'有問題)\n",
    "        key = tag[tmp[0]] if (tmp[0] in tag) else None # 確標籤有在需求(tag)裡\n",
    "        if key: infoData[key] = tmp[1]  # 資料內容\n",
    "    # --- Intr ---\n",
    "    soup = soup.find('div', class_=\"grid_19\").findAll('div', class_= 'mod_b type02_m057 clearfix')\n",
    "    tag = {'內容簡介':'intr', \"作者介紹\":'author', '目錄':'contents'}\n",
    "    for i in soup:\n",
    "        title = i.find('h3').string\n",
    "        tabTitle = tag[title] if title in tag else None\n",
    "\n",
    "        findContent = i.find('div', class_='content')\n",
    "        content = [i.string for i in findContent]\n",
    "        if key: intrData.append( \n",
    "            {\n",
    "                \"title\":tabTitle,\n",
    "                \"content\":\"\\n\".join(content)\n",
    "            }\n",
    "        )\n",
    "    return {\n",
    "        'imgURL': imgURL,\n",
    "        'info': infoData,\n",
    "        'intr': intrData,\n",
    "    }\n",
    "     "
   ]
  },
  {
   "cell_type": "code",
   "execution_count": 3,
   "metadata": {},
   "outputs": [
    {
     "name": "stdout",
     "output_type": "stream",
     "text": [
      "requests -> 200\n"
     ]
    }
   ],
   "source": [
    "itemData = indexSearch(\"0010858475\") "
   ]
  },
  {
   "cell_type": "code",
   "execution_count": 5,
   "metadata": {},
   "outputs": [
    {
     "name": "stdout",
     "output_type": "stream",
     "text": [
      "requests -> 200\n"
     ]
    }
   ],
   "source": [
    "url = 'https://www.books.com.tw/products/0010858475?sloc=main'\n",
    "soup = getHtml(method ='get', url=url)"
   ]
  },
  {
   "cell_type": "code",
   "execution_count": 6,
   "metadata": {},
   "outputs": [],
   "source": [
    "test = soup.findAll('ul', class_='li_box')"
   ]
  },
  {
   "cell_type": "code",
   "execution_count": 7,
   "metadata": {},
   "outputs": [],
   "source": [
    "imgURL = []\n",
    "for i in test:\n",
    "#     imgURL.extend(j.img['src'] for j in i.findAll('li'))\n",
    "    for j in i.findAll('li'):\n",
    "        tmp = j.img['src']\n",
    "        imgURL.append(\"%s%s\" % (tmp[8:11], tmp.split('/img/')[1].split('&v=')[0]))\n",
    "itemData['imgURL']=imgURL"
   ]
  },
  {
   "cell_type": "code",
   "execution_count": 19,
   "metadata": {},
   "outputs": [],
   "source": [
    "import json\n",
    "myjson = json.dumps(itemData)"
   ]
  },
  {
   "cell_type": "code",
   "execution_count": 20,
   "metadata": {},
   "outputs": [],
   "source": [
    "with open(\"test.json\", 'w', encoding='utf-8') as f:\n",
    "    f.write(myjson)"
   ]
  },
  {
   "cell_type": "code",
   "execution_count": null,
   "metadata": {},
   "outputs": [],
   "source": []
  },
  {
   "cell_type": "code",
   "execution_count": null,
   "metadata": {},
   "outputs": [],
   "source": []
  },
  {
   "cell_type": "code",
   "execution_count": null,
   "metadata": {},
   "outputs": [],
   "source": []
  },
  {
   "cell_type": "code",
   "execution_count": 2,
   "metadata": {},
   "outputs": [
    {
     "name": "stdout",
     "output_type": "stream",
     "text": [
      "https://www.books.com.tw/products/qqq?sloc=main\n"
     ]
    }
   ],
   "source": [
    "urls = [\n",
    "        'https://www.books.com.tw/products/%s?sloc=main',\n",
    "        \"https://www.sanmin.com.tw/Product/index/%s\"\n",
    "    ]\n",
    "url = urls[0] % 'qqq'\n",
    "print(url)"
   ]
  }
 ],
 "metadata": {
  "kernelspec": {
   "display_name": "Python 3",
   "language": "python",
   "name": "python3"
  },
  "language_info": {
   "codemirror_mode": {
    "name": "ipython",
    "version": 3
   },
   "file_extension": ".py",
   "mimetype": "text/x-python",
   "name": "python",
   "nbconvert_exporter": "python",
   "pygments_lexer": "ipython3",
   "version": "3.7.3"
  }
 },
 "nbformat": 4,
 "nbformat_minor": 4
}
